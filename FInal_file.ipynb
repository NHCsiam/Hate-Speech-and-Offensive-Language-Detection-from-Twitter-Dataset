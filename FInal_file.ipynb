{
 "cells": [
  {
   "cell_type": "markdown",
   "metadata": {
    "id": "i87Agiy9Acwb"
   },
   "source": [
    "# Hate Speech and Offensive Language Detection from Twitter Dataset\n"
   ]
  },
  {
   "cell_type": "code",
   "execution_count": 1,
   "metadata": {
    "colab": {
     "base_uri": "https://localhost:8080/"
    },
    "id": "ZMl5jNRNSEQU",
    "outputId": "c84459e8-7e27-4775-96ac-648bad60d48e"
   },
   "outputs": [
    {
     "name": "stdout",
     "output_type": "stream",
     "text": [
      "Requirement already satisfied: lime in c:\\users\\nhc\\anaconda3\\envs\\tensorflow\\lib\\site-packages (0.2.0.1)\n",
      "Requirement already satisfied: matplotlib in c:\\users\\nhc\\anaconda3\\envs\\tensorflow\\lib\\site-packages (from lime) (3.8.0)\n",
      "Requirement already satisfied: numpy in c:\\users\\nhc\\anaconda3\\envs\\tensorflow\\lib\\site-packages (from lime) (1.26.0)\n",
      "Requirement already satisfied: scipy in c:\\users\\nhc\\anaconda3\\envs\\tensorflow\\lib\\site-packages (from lime) (1.11.3)\n",
      "Requirement already satisfied: tqdm in c:\\users\\nhc\\anaconda3\\envs\\tensorflow\\lib\\site-packages (from lime) (4.66.1)\n",
      "Requirement already satisfied: scikit-learn>=0.18 in c:\\users\\nhc\\anaconda3\\envs\\tensorflow\\lib\\site-packages (from lime) (1.3.2)\n",
      "Requirement already satisfied: scikit-image>=0.12 in c:\\users\\nhc\\anaconda3\\envs\\tensorflow\\lib\\site-packages (from lime) (0.20.0)\n",
      "Requirement already satisfied: networkx>=2.8 in c:\\users\\nhc\\anaconda3\\envs\\tensorflow\\lib\\site-packages (from scikit-image>=0.12->lime) (3.1)\n",
      "Requirement already satisfied: pillow>=9.0.1 in c:\\users\\nhc\\anaconda3\\envs\\tensorflow\\lib\\site-packages (from scikit-image>=0.12->lime) (10.0.1)\n",
      "Requirement already satisfied: imageio>=2.4.1 in c:\\users\\nhc\\anaconda3\\envs\\tensorflow\\lib\\site-packages (from scikit-image>=0.12->lime) (2.31.4)\n",
      "Requirement already satisfied: tifffile>=2019.7.26 in c:\\users\\nhc\\anaconda3\\envs\\tensorflow\\lib\\site-packages (from scikit-image>=0.12->lime) (2023.4.12)\n",
      "Requirement already satisfied: PyWavelets>=1.1.1 in c:\\users\\nhc\\anaconda3\\envs\\tensorflow\\lib\\site-packages (from scikit-image>=0.12->lime) (1.4.1)\n",
      "Requirement already satisfied: packaging>=20.0 in c:\\users\\nhc\\anaconda3\\envs\\tensorflow\\lib\\site-packages (from scikit-image>=0.12->lime) (23.1)\n",
      "Requirement already satisfied: lazy_loader>=0.1 in c:\\users\\nhc\\anaconda3\\envs\\tensorflow\\lib\\site-packages (from scikit-image>=0.12->lime) (0.3)\n",
      "Requirement already satisfied: joblib>=1.1.1 in c:\\users\\nhc\\anaconda3\\envs\\tensorflow\\lib\\site-packages (from scikit-learn>=0.18->lime) (1.3.2)\n",
      "Requirement already satisfied: threadpoolctl>=2.0.0 in c:\\users\\nhc\\anaconda3\\envs\\tensorflow\\lib\\site-packages (from scikit-learn>=0.18->lime) (3.2.0)\n",
      "Requirement already satisfied: contourpy>=1.0.1 in c:\\users\\nhc\\anaconda3\\envs\\tensorflow\\lib\\site-packages (from matplotlib->lime) (1.0.5)\n",
      "Requirement already satisfied: cycler>=0.10 in c:\\users\\nhc\\anaconda3\\envs\\tensorflow\\lib\\site-packages (from matplotlib->lime) (0.11.0)\n",
      "Requirement already satisfied: fonttools>=4.22.0 in c:\\users\\nhc\\anaconda3\\envs\\tensorflow\\lib\\site-packages (from matplotlib->lime) (4.25.0)\n",
      "Requirement already satisfied: kiwisolver>=1.0.1 in c:\\users\\nhc\\anaconda3\\envs\\tensorflow\\lib\\site-packages (from matplotlib->lime) (1.4.4)\n",
      "Requirement already satisfied: pyparsing>=2.3.1 in c:\\users\\nhc\\anaconda3\\envs\\tensorflow\\lib\\site-packages (from matplotlib->lime) (3.0.9)\n",
      "Requirement already satisfied: python-dateutil>=2.7 in c:\\users\\nhc\\anaconda3\\envs\\tensorflow\\lib\\site-packages (from matplotlib->lime) (2.8.2)\n",
      "Requirement already satisfied: colorama in c:\\users\\nhc\\anaconda3\\envs\\tensorflow\\lib\\site-packages (from tqdm->lime) (0.4.6)\n",
      "Requirement already satisfied: six>=1.5 in c:\\users\\nhc\\anaconda3\\envs\\tensorflow\\lib\\site-packages (from python-dateutil>=2.7->matplotlib->lime) (1.16.0)\n",
      "Note: you may need to restart the kernel to use updated packages.\n"
     ]
    }
   ],
   "source": [
    "pip install lime"
   ]
  },
  {
   "cell_type": "code",
   "execution_count": 2,
   "metadata": {
    "colab": {
     "base_uri": "https://localhost:8080/"
    },
    "id": "Bkc3NR3eAcw0",
    "outputId": "a2239a15-85a1-4077-f879-3fecca3b8fc8"
   },
   "outputs": [
    {
     "ename": "ImportError",
     "evalue": "cannot import name 'precisio' from 'sklearn.metrics' (C:\\Users\\NHC\\anaconda3\\envs\\tensorflow\\lib\\site-packages\\sklearn\\metrics\\__init__.py)",
     "output_type": "error",
     "traceback": [
      "\u001b[1;31m---------------------------------------------------------------------------\u001b[0m",
      "\u001b[1;31mImportError\u001b[0m                               Traceback (most recent call last)",
      "Cell \u001b[1;32mIn[2], line 8\u001b[0m\n\u001b[0;32m      6\u001b[0m \u001b[38;5;28;01mfrom\u001b[39;00m \u001b[38;5;21;01msklearn\u001b[39;00m\u001b[38;5;21;01m.\u001b[39;00m\u001b[38;5;21;01mnaive_bayes\u001b[39;00m \u001b[38;5;28;01mimport\u001b[39;00m GaussianNB\n\u001b[0;32m      7\u001b[0m \u001b[38;5;28;01mfrom\u001b[39;00m \u001b[38;5;21;01msklearn\u001b[39;00m\u001b[38;5;21;01m.\u001b[39;00m\u001b[38;5;21;01mneighbors\u001b[39;00m \u001b[38;5;28;01mimport\u001b[39;00m KNeighborsClassifier \u001b[38;5;28;01mas\u001b[39;00m KNN\n\u001b[1;32m----> 8\u001b[0m \u001b[38;5;28;01mfrom\u001b[39;00m \u001b[38;5;21;01msklearn\u001b[39;00m\u001b[38;5;21;01m.\u001b[39;00m\u001b[38;5;21;01mmetrics\u001b[39;00m \u001b[38;5;28;01mimport\u001b[39;00m confusion_matrix, ConfusionMatrixDisplay, recall_score, precisio\n\u001b[0;32m      9\u001b[0m \u001b[38;5;28;01mfrom\u001b[39;00m \u001b[38;5;21;01msklearn\u001b[39;00m\u001b[38;5;21;01m.\u001b[39;00m\u001b[38;5;21;01mfeature_extraction\u001b[39;00m\u001b[38;5;21;01m.\u001b[39;00m\u001b[38;5;21;01mtext\u001b[39;00m \u001b[38;5;28;01mimport\u001b[39;00m CountVectorizer\n\u001b[0;32m     10\u001b[0m \u001b[38;5;28;01mimport\u001b[39;00m \u001b[38;5;21;01mseaborn\u001b[39;00m \u001b[38;5;28;01mas\u001b[39;00m \u001b[38;5;21;01msns\u001b[39;00m\n",
      "\u001b[1;31mImportError\u001b[0m: cannot import name 'precisio' from 'sklearn.metrics' (C:\\Users\\NHC\\anaconda3\\envs\\tensorflow\\lib\\site-packages\\sklearn\\metrics\\__init__.py)"
     ]
    }
   ],
   "source": [
    "import numpy as np\n",
    "import pandas as pd\n",
    "from matplotlib import pyplot as plt\n",
    "from sklearn.model_selection import train_test_split\n",
    "from sklearn.linear_model import LogisticRegression\n",
    "from sklearn.naive_bayes import GaussianNB\n",
    "from sklearn.neighbors import KNeighborsClassifier as KNN\n",
    "from sklearn.metrics import confusion_matrix, ConfusionMatrixDisplay, recall_score, precisio\n",
    "from sklearn.feature_extraction.text import CountVectorizer\n",
    "import seaborn as sns\n",
    "from imblearn.over_sampling import RandomOverSampler\n",
    "import nltk\n",
    "from nltk.corpus import wordnet\n",
    "from nltk.stem import WordNetLemmatizer\n",
    "nltk.download('stopwords')\n",
    "nltk.download('wordnet')\n",
    "stopwords = nltk.corpus.stopwords.words('english')\n",
    "import string\n",
    "import re\n",
    "from collections import Counter\n",
    "import lime\n",
    "from lime import lime_tabular\n",
    "from sklearn.pipeline import make_pipeline\n",
    "import numpy as np"
   ]
  },
  {
   "cell_type": "code",
   "execution_count": null,
   "metadata": {
    "id": "SDzGEV7B5Oy7",
    "outputId": "8ffaf4bf-e1b1-448e-e69f-dc57219c5576"
   },
   "outputs": [],
   "source": [
    "from google.colab import drive\n",
    "drive.mount('/content/gdrive')"
   ]
  },
  {
   "cell_type": "markdown",
   "metadata": {
    "id": "ZEzgqd5PAcw8"
   },
   "source": [
    "### Load Dataset and drop unnecessary columns"
   ]
  },
  {
   "cell_type": "code",
   "execution_count": null,
   "metadata": {
    "colab": {
     "base_uri": "https://localhost:8080/",
     "height": 206
    },
    "id": "eno6qxp8Acw-",
    "outputId": "fbbd19a6-6f05-40f1-b5f5-a50d9958ed2d"
   },
   "outputs": [],
   "source": [
    "df = pd.read_csv(\"labeled_data.csv\")\n",
    "df=df.drop(df.index[3000:])\n",
    "df.head()"
   ]
  },
  {
   "cell_type": "markdown",
   "metadata": {
    "id": "_q6ZaSYQAcxD"
   },
   "source": [
    "### Visualization of dataset for output(Imbalanced Dataset)"
   ]
  },
  {
   "cell_type": "code",
   "execution_count": null,
   "metadata": {
    "colab": {
     "base_uri": "https://localhost:8080/",
     "height": 469
    },
    "id": "8kKDPFjBAcxF",
    "outputId": "ccdf2d2a-082f-4b08-c59a-a7a1c909086f"
   },
   "outputs": [],
   "source": [
    "flags = [\"Hate Speech\", \"Offensive Language\", \"Neither\"]\n",
    "values = [df[df[\"class\"] == i].shape[0] for i in range(3)]\n",
    "plt.bar(flags, values, color=\"red\")\n",
    "plt.title(\"Visualization of dataset for output(Imbalanced Dataset)\")\n",
    "print(f\"Dataset size: {df.shape}\")\n",
    "plt.show()"
   ]
  },
  {
   "cell_type": "markdown",
   "metadata": {
    "id": "qZzF34AVAcxJ"
   },
   "source": [
    "### Over sampling for this imbalanced dataset"
   ]
  },
  {
   "cell_type": "code",
   "execution_count": null,
   "metadata": {
    "colab": {
     "base_uri": "https://localhost:8080/"
    },
    "id": "p2m_ZfhrAcxM",
    "outputId": "12e258ec-cddc-412f-ceec-2a7c68a540d7"
   },
   "outputs": [],
   "source": [
    "ros = RandomOverSampler(random_state=0)\n",
    "tweet_resampled, class_resampled = ros.fit_resample(np.array(list(df[\"tweet\"])).reshape(-1, 1), list(df[\"class\"]))\n",
    "tweet_resampled = np.array([tweet[0] for tweet in tweet_resampled])\n",
    "print(f\"Dataset size after oversampling: {len(tweet_resampled)}\")"
   ]
  },
  {
   "cell_type": "markdown",
   "metadata": {
    "id": "e5j0k4LgAcxQ"
   },
   "source": [
    "### Visualization of dataset after applying oversampling"
   ]
  },
  {
   "cell_type": "code",
   "execution_count": null,
   "metadata": {
    "colab": {
     "base_uri": "https://localhost:8080/",
     "height": 452
    },
    "id": "jNUwvANqAcxU",
    "outputId": "58ed306e-ab70-4181-b0c8-7cee0e95f158"
   },
   "outputs": [],
   "source": [
    "values = [class_resampled.count(i) for i in range(3)]\n",
    "plt.bar(flags, values, color=\"yellow\")\n",
    "plt.title(\"Visualization class distribution for After Applying Oversampling\")\n",
    "plt.show()"
   ]
  },
  {
   "cell_type": "markdown",
   "metadata": {
    "id": "uV1Sh59FAcxX"
   },
   "source": [
    "### Preprocessing\n",
    "#### Steps\n",
    "* Removal of Punctuations\n",
    "* Lower Casing\n",
    "* Tokenization\n",
    "* Removal of Stop Words\n",
    "* Lemmatization\n",
    "\n"
   ]
  },
  {
   "cell_type": "code",
   "execution_count": null,
   "metadata": {
    "id": "0H9nUyZGAcxa"
   },
   "outputs": [],
   "source": [
    "# Punctuation Removal\n",
    "\n",
    "def remove_punctuation(text):\n",
    "    punctuation_free = \"\".join([i for i in text if i not in string.punctuation]).strip()\n",
    "    return punctuation_free"
   ]
  },
  {
   "cell_type": "code",
   "execution_count": null,
   "metadata": {
    "id": "3F9Vtlw4Acxd"
   },
   "outputs": [],
   "source": [
    "# Tokenization\n",
    "\n",
    "def tokenize(text):\n",
    "    tokens = re.split(r\"\\s+\", text)\n",
    "    return tokens"
   ]
  },
  {
   "cell_type": "code",
   "execution_count": null,
   "metadata": {
    "id": "ipmVCd9DAcxf"
   },
   "outputs": [],
   "source": [
    "# Remove Stopwords\n",
    "\n",
    "def remove_stopwords(text):\n",
    "    removed_stopwords = [i for i in text if i not in stopwords]\n",
    "    return removed_stopwords"
   ]
  },
  {
   "cell_type": "code",
   "execution_count": null,
   "metadata": {
    "id": "O3aDtUVTAcxg"
   },
   "outputs": [],
   "source": [
    "# Lemmatization\n",
    "\n",
    "wordnet_lemmatizer = WordNetLemmatizer()\n",
    "def lemmatize(text):\n",
    "    lemmatized_text = [wordnet_lemmatizer.lemmatize(word) for word in text]\n",
    "    return lemmatized_text"
   ]
  },
  {
   "cell_type": "code",
   "execution_count": null,
   "metadata": {
    "id": "-xFQhYj6Acxh"
   },
   "outputs": [],
   "source": [
    "# # Preprocess the resampled text data\n",
    "\n",
    "tweets_punctuation_free = np.array([remove_punctuation(tweet) for tweet in tweet_resampled])\n",
    "tweets_lowercase = np.array([tweet.lower() for tweet in tweets_punctuation_free])\n",
    "tweets_tokenized = np.array([tokenize(tweet) for tweet in tweets_lowercase], dtype=object)\n",
    "tweets_no_stop_words = np.array([remove_stopwords(tweet) for tweet in tweets_tokenized], dtype=object)\n",
    "tweets_no_stop_words = np.array([remove_stopwords(tweet) for tweet in tweets_tokenized], dtype=object)\n",
    "tweets_lemmatized = np.array([lemmatize(tweet) for tweet in tweets_no_stop_words], dtype=object)"
   ]
  },
  {
   "cell_type": "markdown",
   "metadata": {
    "id": "31F9cKsOAcxj"
   },
   "source": [
    "### Feature Extraction - Bag of Word using Unigrams"
   ]
  },
  {
   "cell_type": "code",
   "execution_count": null,
   "metadata": {
    "id": "DW6-6LCwAcxk"
   },
   "outputs": [],
   "source": [
    "# Feature Extraction using Count Vectorization\n",
    "\n",
    "from itertools import count\n",
    "\n",
    "vectorizer = CountVectorizer()\n",
    "tweets_lemmatized_str = [\" \".join(tweet) for tweet in tweets_lemmatized]\n",
    "count_vectorized_tweets = vectorizer.fit_transform(tweets_lemmatized_str).toarray()"
   ]
  },
  {
   "cell_type": "code",
   "execution_count": null,
   "metadata": {
    "id": "CNvw-fcgAcxl"
   },
   "outputs": [],
   "source": [
    "# Split the dataset between Train and Test Set\n",
    "\n",
    "X_train, X_test, y_train, y_test = train_test_split(count_vectorized_tweets, class_resampled, test_size=0.2, random_state=42, shuffle=True)"
   ]
  },
  {
   "cell_type": "markdown",
   "metadata": {
    "id": "KAW6Th6QAcxl"
   },
   "source": [
    "### Fit the models\n",
    "Algorithms\n",
    "* Logistic Regression\n",
    "* Naive Bayes Classifier\n",
    "* Kth Nearest Neighbor"
   ]
  },
  {
   "cell_type": "markdown",
   "metadata": {
    "id": "C_ElCwV9Acxm"
   },
   "source": [
    "### Logistic Regression"
   ]
  },
  {
   "cell_type": "code",
   "execution_count": null,
   "metadata": {
    "colab": {
     "base_uri": "https://localhost:8080/"
    },
    "id": "9Aa9oh1JAcxn",
    "outputId": "d470caf4-7a33-411c-eb6d-760aba5fbc60"
   },
   "outputs": [],
   "source": [
    "reg = LogisticRegression()\n",
    "reg.fit(X_train, y_train)\n",
    "reg_y_predict = reg.predict(X_test)\n",
    "reg_cf_matrix = confusion_matrix(y_test, reg_y_predict)\n",
    "reg_train_score = reg.score(X_train, y_train)\n",
    "reg_test_score = reg.score(X_test, y_test)\n",
    "print(f\"Training accuracy: {reg_train_score}\")\n",
    "print(f\"Testing accuracy: {reg_test_score}\")"
   ]
  },
  {
   "cell_type": "code",
   "execution_count": null,
   "metadata": {
    "colab": {
     "base_uri": "https://localhost:8080/",
     "height": 1000
    },
    "id": "hVh_8ZrPNQCs",
    "outputId": "f286f31b-ba85-4adc-b486-5e5b69fb460a"
   },
   "outputs": [],
   "source": [
    "#LIME explainer\n",
    "explainer = lime_tabular.LimeTabularExplainer(X_train, mode=\"classification\", feature_names=vectorizer.get_feature_names_out())\n",
    "\n",
    "#function to predict with your logistic regression model\n",
    "predict_fn = lambda x: reg.predict_proba(x)\n",
    "\n",
    "#An instance to explain\n",
    "instance_to_explain = X_test[0]\n",
    "\n",
    "# Get the explanation for the instance\n",
    "explanation = explainer.explain_instance(instance_to_explain, predict_fn, num_features=len(instance_to_explain))\n",
    "\n",
    "# Display the results\n",
    "explanation.show_in_notebook(show_table=True, show_all=False)"
   ]
  },
  {
   "cell_type": "markdown",
   "metadata": {
    "id": "HrD9EF7wAcxo"
   },
   "source": [
    "### Naive Bayes Classifier"
   ]
  },
  {
   "cell_type": "code",
   "execution_count": 3,
   "metadata": {
    "colab": {
     "base_uri": "https://localhost:8080/"
    },
    "id": "hXvdgsquAcxo",
    "outputId": "7decaaae-add3-4177-cc35-7c2e22b69eec"
   },
   "outputs": [
    {
     "ename": "NameError",
     "evalue": "name 'X_train' is not defined",
     "output_type": "error",
     "traceback": [
      "\u001b[1;31m---------------------------------------------------------------------------\u001b[0m",
      "\u001b[1;31mNameError\u001b[0m                                 Traceback (most recent call last)",
      "Cell \u001b[1;32mIn[3], line 2\u001b[0m\n\u001b[0;32m      1\u001b[0m nvc \u001b[38;5;241m=\u001b[39m GaussianNB()\n\u001b[1;32m----> 2\u001b[0m nvc\u001b[38;5;241m.\u001b[39mfit(\u001b[43mX_train\u001b[49m, y_train)\n\u001b[0;32m      3\u001b[0m nvc_y_predict \u001b[38;5;241m=\u001b[39m nvc\u001b[38;5;241m.\u001b[39mpredict(X_test)\n\u001b[0;32m      4\u001b[0m nvc_cf_matrix \u001b[38;5;241m=\u001b[39m confusion_matrix(y_test, nvc_y_predict)\n",
      "\u001b[1;31mNameError\u001b[0m: name 'X_train' is not defined"
     ]
    }
   ],
   "source": [
    "nvc = GaussianNB()\n",
    "nvc.fit(X_train, y_train)\n",
    "nvc_y_predict = nvc.predict(X_test)\n",
    "nvc_cf_matrix = confusion_matrix(y_test, nvc_y_predict)\n",
    "nvc_train_score = nvc.score(X_train, y_train)\n",
    "nvc_test_score = nvc.score(X_test, y_test)\n",
    "print(f\"Training accuracy: {nvc_train_score}\")\n",
    "print(f\"Testing accuracy: {nvc_test_score}\")"
   ]
  },
  {
   "cell_type": "code",
   "execution_count": 4,
   "metadata": {
    "colab": {
     "base_uri": "https://localhost:8080/",
     "height": 1000
    },
    "id": "pzOQicF7R39t",
    "outputId": "a01ba1dd-a2de-40c0-889a-8e78fbe0a382"
   },
   "outputs": [
    {
     "ename": "NameError",
     "evalue": "name 'lime_tabular' is not defined",
     "output_type": "error",
     "traceback": [
      "\u001b[1;31m---------------------------------------------------------------------------\u001b[0m",
      "\u001b[1;31mNameError\u001b[0m                                 Traceback (most recent call last)",
      "Cell \u001b[1;32mIn[4], line 2\u001b[0m\n\u001b[0;32m      1\u001b[0m \u001b[38;5;66;03m#LIME explainer for Gaussian Naive Bayes\u001b[39;00m\n\u001b[1;32m----> 2\u001b[0m nvc_explainer \u001b[38;5;241m=\u001b[39m \u001b[43mlime_tabular\u001b[49m\u001b[38;5;241m.\u001b[39mLimeTabularExplainer(X_train, mode\u001b[38;5;241m=\u001b[39m\u001b[38;5;124m\"\u001b[39m\u001b[38;5;124mclassification\u001b[39m\u001b[38;5;124m\"\u001b[39m, feature_names\u001b[38;5;241m=\u001b[39mvectorizer\u001b[38;5;241m.\u001b[39mget_feature_names_out())\n\u001b[0;32m      4\u001b[0m \u001b[38;5;66;03m# function to predict with your Gaussian Naive Bayes model\u001b[39;00m\n\u001b[0;32m      5\u001b[0m nvc_predict_fn \u001b[38;5;241m=\u001b[39m \u001b[38;5;28;01mlambda\u001b[39;00m x: nvc\u001b[38;5;241m.\u001b[39mpredict_proba(x)\n",
      "\u001b[1;31mNameError\u001b[0m: name 'lime_tabular' is not defined"
     ]
    }
   ],
   "source": [
    "#LIME explainer for Gaussian Naive Bayes\n",
    "nvc_explainer = lime_tabular.LimeTabularExplainer(X_train, mode=\"classification\", feature_names=vectorizer.get_feature_names_out())\n",
    "\n",
    "# function to predict with your Gaussian Naive Bayes model\n",
    "nvc_predict_fn = lambda x: nvc.predict_proba(x)\n",
    "\n",
    "#An instance to explain\n",
    "nvc_instance_to_explain = X_test[0]\n",
    "\n",
    "# Get the explanation for the instance\n",
    "nvc_explanation = nvc_explainer.explain_instance(nvc_instance_to_explain, nvc_predict_fn, num_features=len(nvc_instance_to_explain))\n",
    "\n",
    "# Display the results\n",
    "nvc_explanation.show_in_notebook(show_table=True, show_all=False)\n"
   ]
  },
  {
   "cell_type": "markdown",
   "metadata": {
    "id": "y9iM8yL6Acxp"
   },
   "source": [
    "## Kth Nearest Neighbor"
   ]
  },
  {
   "cell_type": "code",
   "execution_count": 5,
   "metadata": {
    "colab": {
     "base_uri": "https://localhost:8080/"
    },
    "id": "ug95LCiRAcxp",
    "outputId": "0ca3f112-4c50-4cba-ce04-40e0da665d3f"
   },
   "outputs": [
    {
     "ename": "NameError",
     "evalue": "name 'X_train' is not defined",
     "output_type": "error",
     "traceback": [
      "\u001b[1;31m---------------------------------------------------------------------------\u001b[0m",
      "\u001b[1;31mNameError\u001b[0m                                 Traceback (most recent call last)",
      "Cell \u001b[1;32mIn[5], line 2\u001b[0m\n\u001b[0;32m      1\u001b[0m knn \u001b[38;5;241m=\u001b[39m KNN(n_neighbors \u001b[38;5;241m=\u001b[39m \u001b[38;5;241m3\u001b[39m)\n\u001b[1;32m----> 2\u001b[0m knn\u001b[38;5;241m.\u001b[39mfit(\u001b[43mX_train\u001b[49m, y_train)\n\u001b[0;32m      3\u001b[0m knn_y_predict \u001b[38;5;241m=\u001b[39m knn\u001b[38;5;241m.\u001b[39mpredict(X_test)\n\u001b[0;32m      4\u001b[0m knn_cf_matrix \u001b[38;5;241m=\u001b[39m confusion_matrix(y_test, knn_y_predict)\n",
      "\u001b[1;31mNameError\u001b[0m: name 'X_train' is not defined"
     ]
    }
   ],
   "source": [
    "knn = KNN(n_neighbors = 3)\n",
    "knn.fit(X_train, y_train)\n",
    "knn_y_predict = knn.predict(X_test)\n",
    "knn_cf_matrix = confusion_matrix(y_test, knn_y_predict)\n",
    "knn_train_score = knn.score(X_train, y_train)\n",
    "knn_test_score = knn.score(X_test, y_test)\n",
    "print(f\"Training accuracy: {knn_train_score}\")\n",
    "print(f\"Testing accuracy: {knn_test_score}\")"
   ]
  },
  {
   "cell_type": "code",
   "execution_count": 6,
   "metadata": {
    "colab": {
     "base_uri": "https://localhost:8080/",
     "height": 1000
    },
    "id": "rxOfSW52f7yd",
    "outputId": "17dc06e9-33df-4e6a-af56-e0bd52cdb486"
   },
   "outputs": [
    {
     "ename": "NameError",
     "evalue": "name 'lime_tabular' is not defined",
     "output_type": "error",
     "traceback": [
      "\u001b[1;31m---------------------------------------------------------------------------\u001b[0m",
      "\u001b[1;31mNameError\u001b[0m                                 Traceback (most recent call last)",
      "Cell \u001b[1;32mIn[6], line 2\u001b[0m\n\u001b[0;32m      1\u001b[0m \u001b[38;5;66;03m#LIME explainer for KNN\u001b[39;00m\n\u001b[1;32m----> 2\u001b[0m knn_explainer \u001b[38;5;241m=\u001b[39m \u001b[43mlime_tabular\u001b[49m\u001b[38;5;241m.\u001b[39mLimeTabularExplainer(X_train, mode\u001b[38;5;241m=\u001b[39m\u001b[38;5;124m\"\u001b[39m\u001b[38;5;124mclassification\u001b[39m\u001b[38;5;124m\"\u001b[39m, feature_names\u001b[38;5;241m=\u001b[39mvectorizer\u001b[38;5;241m.\u001b[39mget_feature_names_out())\n\u001b[0;32m      4\u001b[0m \u001b[38;5;66;03m#function to predict with your KNN model\u001b[39;00m\n\u001b[0;32m      5\u001b[0m knn_predict_fn \u001b[38;5;241m=\u001b[39m \u001b[38;5;28;01mlambda\u001b[39;00m x: knn\u001b[38;5;241m.\u001b[39mpredict_proba(x)\n",
      "\u001b[1;31mNameError\u001b[0m: name 'lime_tabular' is not defined"
     ]
    }
   ],
   "source": [
    "#LIME explainer for KNN\n",
    "knn_explainer = lime_tabular.LimeTabularExplainer(X_train, mode=\"classification\", feature_names=vectorizer.get_feature_names_out())\n",
    "\n",
    "#function to predict with your KNN model\n",
    "knn_predict_fn = lambda x: knn.predict_proba(x)\n",
    "\n",
    "#An instance to explain for KNN\n",
    "knn_instance_to_explain = X_test[0]\n",
    "\n",
    "# Get the explanation for the instance\n",
    "knn_explanation = knn_explainer.explain_instance(knn_instance_to_explain, knn_predict_fn, num_features=len(knn_instance_to_explain))\n",
    "\n",
    "# Display the results\n",
    "knn_explanation.show_in_notebook(show_table=True, show_all=False)\n"
   ]
  },
  {
   "cell_type": "markdown",
   "metadata": {
    "id": "t4tQKIsdAcxq"
   },
   "source": [
    "### Confusion Matrix, Precision, Recall and F1 Score for Each Model"
   ]
  },
  {
   "cell_type": "code",
   "execution_count": 7,
   "metadata": {
    "id": "jRHgIgebAcxq"
   },
   "outputs": [],
   "source": [
    "def display_confusion_matrix(cf_matrix, model_name, color_map):\n",
    "    dataframe_cfm = pd.DataFrame(cf_matrix, range(3), range(3))\n",
    "    plt.figure(figsize = (7,5))\n",
    "    ax = sns.heatmap(dataframe_cfm, annot=True, fmt='', cmap=color_map)\n",
    "    ax.set_title(f'Confusion Matrix for {model_name} \\n\\n');\n",
    "    ax.set_xlabel('\\nPredicted Label')\n",
    "    ax.set_ylabel('Actual Label');\n",
    "    ax.xaxis.set_ticklabels(['0','1', \"2\"])\n",
    "    ax.yaxis.set_ticklabels(['hate_speech','offensive_language', \"neither\"])\n",
    "    plt.show()"
   ]
  },
  {
   "cell_type": "code",
   "execution_count": 21,
   "metadata": {
    "id": "HOxPgSycAcxr"
   },
   "outputs": [],
   "source": [
    "# Calculate Precision, Recall and F1 Scores\n",
    "\n",
    "precision_scores = [precision_score(y_test, reg.predict(X_test), average=None), precision_score(y_test, nvc.predict(X_test), average=None), precision_score(y_test, knn.predict(X_test), average=None)]\n",
    "recall_scores = [recall_score(y_test, reg.predict(X_test), average=None), recall_score(y_test, nvc.predict(X_test), average=None), recall_score(y_test, knn.predict(X_test), average=None)]\n",
    "f1_scores = [f1_score(y_test, reg.predict(X_test), average=None), f1_score(y_test, nvc.predict(X_test), average=None), f1_score(y_test, knn.predict(X_test), average=None)]"
   ]
  },
  {
   "cell_type": "code",
   "execution_count": 22,
   "metadata": {
    "colab": {
     "base_uri": "https://localhost:8080/",
     "height": 633
    },
    "id": "ZJFXU1PuAcxr",
    "outputId": "81b8006a-a5d8-45e3-d277-d3041cb6625f"
   },
   "outputs": [
    {
     "name": "stdout",
     "output_type": "stream",
     "text": [
      "     precision     recall     f1_score\n",
      "0       0.97       0.97       0.97\n",
      "1       0.97       0.97       0.97\n",
      "2       0.97       0.97       0.97\n"
     ]
    },
    {
     "data": {
      "image/png": "[encoded data removed]",
      "text/plain": [
       "<Figure size 800x600 with 2 Axes>"
      ]
     },
     "metadata": {},
     "output_type": "display_data"
    }
   ],
   "source": [
    "y_pred_reg = reg.predict(X_test)\n",
    "\n",
    "# Calculate precision, recall, and F1 scores with 'macro' average\n",
    "precision_reg = precision_score(y_test, y_pred_reg, average='macro')\n",
    "recall_reg = recall_score(y_test, y_pred_reg, average='macro')\n",
    "f1_reg = f1_score(y_test, y_pred_reg, average='macro')\n",
    "\n",
    "# Print precision, recall, and F1 scores\n",
    "print(\"     precision     recall     f1_score\")\n",
    "for i in range(3):\n",
    "    print(f\"{i}       {round(precision_reg, 2)}       {round(recall_reg, 2)}       {round(f1_reg, 2)}\")\n",
    "\n",
    "# Display confusion matrix\n",
    "reg_cf_matrix = confusion_matrix(y_test, y_pred_reg)\n",
    "\n",
    "# Assuming you have the function display_confusion_matrix\n",
    "def display_confusion_matrix(cf_matrix, title, cmap):\n",
    "    plt.figure(figsize=(8, 6))\n",
    "    sns.heatmap(cf_matrix, annot=True, fmt='d', cmap=cmap)\n",
    "    plt.title(f'Confusion Matrix - {title}')\n",
    "    plt.xlabel('Predicted')\n",
    "    plt.ylabel('Actual')\n",
    "    plt.show()\n",
    "\n",
    "# Display confusion matrix for logistic regression\n",
    "display_confusion_matrix(reg_cf_matrix, \"Logistic Regression\", \"YlGnBu\")\n"
   ]
  },
  {
   "cell_type": "code",
   "execution_count": 23,
   "metadata": {
    "colab": {
     "base_uri": "https://localhost:8080/",
     "height": 633
    },
    "id": "9AebLRSCAcxs",
    "outputId": "d55c0041-e2c0-46fb-95a4-6f2f911c4bcb"
   },
   "outputs": [
    {
     "name": "stdout",
     "output_type": "stream",
     "text": [
      "     precision     recall     f1_score\n",
      "0    0.89           1.0        0.94\n",
      "1    0.98           0.77        0.86\n",
      "2    0.89           0.99        0.94\n"
     ]
    },
    {
     "data": {
      "image/png": "[encoded data removed]",
      "text/plain": [
       "<Figure size 800x600 with 2 Axes>"
      ]
     },
     "metadata": {},
     "output_type": "display_data"
    }
   ],
   "source": [
    "# Confusion Matrix for Naive Bayes Classifier Model\n",
    "\n",
    "print(\"     precision     recall     f1_score\")\n",
    "for i in range(3):\n",
    "    print(f\"{i}    {round(precision_scores[1][i], 2)}           {round(recall_scores[1][i], 2)}        {round(f1_scores[1][i], 2)}\")\n",
    "\n",
    "display_confusion_matrix(nvc_cf_matrix, \"Naive Bayes Classifier\", \"Greens\")"
   ]
  },
  {
   "cell_type": "code",
   "execution_count": 24,
   "metadata": {
    "colab": {
     "base_uri": "https://localhost:8080/",
     "height": 633
    },
    "id": "X75OSRfLAcxt",
    "outputId": "535b8497-6cea-43eb-c9f2-e9b35779e6e2"
   },
   "outputs": [
    {
     "name": "stdout",
     "output_type": "stream",
     "text": [
      "     precision     recall     f1_score\n",
      "0    0.93         1.0        0.97\n",
      "1    0.99         0.81        0.89\n",
      "2    0.88         0.99        0.93\n"
     ]
    },
    {
     "data": {
      "image/png": "[encoded data removed]",
      "text/plain": [
       "<Figure size 800x600 with 2 Axes>"
      ]
     },
     "metadata": {},
     "output_type": "display_data"
    }
   ],
   "source": [
    "# Confusion Matrix for Kth Nearest Neighbor Model\n",
    "\n",
    "print(\"     precision     recall     f1_score\")\n",
    "for i in range(3):\n",
    "    print(f\"{i}    {round(precision_scores[2][i], 2)}         {round(recall_scores[2][i], 2)}        {round(f1_scores[2][i], 2)}\" )\n",
    "\n",
    "\n",
    "display_confusion_matrix(knn_cf_matrix, \"Kth Nearest Neighbor\", \"Blues\")"
   ]
  },
  {
   "cell_type": "code",
   "execution_count": 25,
   "metadata": {
    "colab": {
     "base_uri": "https://localhost:8080/",
     "height": 507
    },
    "id": "EgcghqdYg4D4",
    "outputId": "c1a85b2d-8f9a-4c51-d98d-9ccc38c27a84"
   },
   "outputs": [
    {
     "data": {
      "image/png": "[encoded data removed]",
      "text/plain": [
       "<Figure size 1000x500 with 1 Axes>"
      ]
     },
     "metadata": {},
     "output_type": "display_data"
    }
   ],
   "source": [
    "labels = [\"LR\", \"NVC\", \"KNN\"]\n",
    "\n",
    "train_acc = [reg_train_score*100, nvc_train_score*100, knn_train_score*100]\n",
    "test_acc = [reg_test_score*100, nvc_test_score*100, knn_test_score*100]\n",
    "\n",
    "train_acc = np.array(train_acc, dtype=int)\n",
    "test_acc = np.array(test_acc, dtype=int)\n",
    "\n",
    "x = np.arange(len(labels))\n",
    "width = 0.3\n",
    "\n",
    "fig, ax = plt.subplots(figsize=(10, 5))\n",
    "rects1 = ax.bar(x - width/2 - 0.05, train_acc, width, label=\"Training Accuracy\")\n",
    "rects2 = ax.bar(x + width/2 + 0.05, test_acc, width, label=\"Testing Accuracy\")\n",
    "ax.set_ylabel(\"Accuracy\")\n",
    "ax.set_xticks(x)\n",
    "ax.set_xticklabels(labels)\n",
    "ax.legend(loc = \"upper right\")\n",
    "ax.bar_label(rects1)\n",
    "ax.bar_label(rects2)\n",
    "fig.tight_layout()\n",
    "plt.show()"
   ]
  },
  {
   "cell_type": "code",
   "execution_count": null,
   "metadata": {
    "id": "P1riCuI6uRaj"
   },
   "outputs": [],
   "source": []
  },
  {
   "cell_type": "code",
   "execution_count": null,
   "metadata": {
    "id": "ZdO_94ogjv8J"
   },
   "outputs": [],
   "source": []
  }
 ],
 "metadata": {
  "colab": {
   "provenance": []
  },
  "kernelspec": {
   "display_name": "Python 3 (ipykernel)",
   "language": "python",
   "name": "python3"
  },
  "language_info": {
   "codemirror_mode": {
    "name": "ipython",
    "version": 3
   },
   "file_extension": ".py",
   "mimetype": "text/x-python",
   "name": "python",
   "nbconvert_exporter": "python",
   "pygments_lexer": "ipython3",
   "version": "3.10.13"
  },
  "vscode": {
   "interpreter": {
    "hash": "2e15844a05177a24da38cd46e9d40f03c48dc0b90744f2b8a056b9a9829b6dc2"
   }
  }
 },
 "nbformat": 4,
 "nbformat_minor": 1
}
